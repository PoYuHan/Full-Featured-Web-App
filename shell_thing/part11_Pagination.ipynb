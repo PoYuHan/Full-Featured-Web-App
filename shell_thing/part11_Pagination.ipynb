{
 "cells": [
  {
   "cell_type": "code",
   "execution_count": 2,
   "metadata": {},
   "outputs": [],
   "source": [
    "# import module for pagination\n",
    "from django.core.paginator import Paginator"
   ]
  },
  {
   "cell_type": "code",
   "execution_count": 3,
   "metadata": {},
   "outputs": [
    {
     "data": {
      "text/plain": [
       "3"
      ]
     },
     "execution_count": 3,
     "metadata": {},
     "output_type": "execute_result"
    }
   ],
   "source": [
    "posts = ['1', '2', '3', '4', '5']\n",
    "p = Paginator(posts, 2) # Paginator seperate modify the number of the posts for each page\n",
    "p.num_pages"
   ]
  },
  {
   "cell_type": "code",
   "execution_count": 5,
   "metadata": {},
   "outputs": [
    {
     "name": "stdout",
     "output_type": "stream",
     "text": [
      "1\n",
      "['1', '2']\n",
      "False\n",
      "True\n",
      "2\n"
     ]
    }
   ],
   "source": [
    "p1 = p.page(1) # set p1 as the page 1\n",
    "print(p1.number)\n",
    "print(p1.object_list)\n",
    "print(p1.has_previous()) # check if p1 has previous page\n",
    "print(p1.has_next()) # check if p1 has next page\n",
    "print(p1.next_page_number()) # get the next page number"
   ]
  },
  {
   "cell_type": "code",
   "execution_count": null,
   "metadata": {},
   "outputs": [],
   "source": []
  }
 ],
 "metadata": {
  "kernelspec": {
   "display_name": "django",
   "language": "python",
   "name": "python3"
  },
  "language_info": {
   "codemirror_mode": {
    "name": "ipython",
    "version": 3
   },
   "file_extension": ".py",
   "mimetype": "text/x-python",
   "name": "python",
   "nbconvert_exporter": "python",
   "pygments_lexer": "ipython3",
   "version": "3.9.15"
  },
  "orig_nbformat": 4,
  "vscode": {
   "interpreter": {
    "hash": "05a9266a550dd6cee88ed9e573a44d9c5983c8972463533aa7395f9fa09b79d3"
   }
  }
 },
 "nbformat": 4,
 "nbformat_minor": 2
}
